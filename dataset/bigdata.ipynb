{
 "cells": [
  {
   "cell_type": "markdown",
   "id": "0c1decb6",
   "metadata": {},
   "source": [
    "## 빅데이터 최종 결과물\n",
    "#### 데이터 불러오기"
   ]
  },
  {
   "cell_type": "code",
   "execution_count": 9,
   "id": "f28a10db",
   "metadata": {},
   "outputs": [],
   "source": [
    "import matplotlib.pyplot as plt\n",
    "import pandas as pd\n",
    "import seaborn as sns\n",
    "import numpy as np\n",
    "import os\n",
    "from IPython.display import HTML\n",
    "sns.set_style(\"darkgrid\")"
   ]
  },
  {
   "cell_type": "code",
   "execution_count": 10,
   "id": "624fdfb9",
   "metadata": {},
   "outputs": [],
   "source": [
    "df = pd.read_csv(\"C:\\\\Users\\\\82102\\\\Desktop\\\\dataset\\\\seoul_corona_data.csv\")"
   ]
  },
  {
   "cell_type": "code",
   "execution_count": 12,
   "id": "c2222e56",
   "metadata": {},
   "outputs": [
    {
     "name": "stdout",
     "output_type": "stream",
     "text": [
      "<class 'pandas.core.frame.DataFrame'>\n",
      "RangeIndex: 123279 entries, 0 to 123278\n",
      "Data columns (total 14 columns):\n",
      " #   Column  Non-Null Count   Dtype  \n",
      "---  ------  --------------   -----  \n",
      " 0   연번      123279 non-null  int64  \n",
      " 1   확진일     123279 non-null  object \n",
      " 2   환자번호    0 non-null       float64\n",
      " 3   국적      0 non-null       float64\n",
      " 4   환자정보    0 non-null       float64\n",
      " 5   지역      123279 non-null  object \n",
      " 6   여행력     939 non-null     object \n",
      " 7   접촉력     123279 non-null  object \n",
      " 8   조치사항    0 non-null       float64\n",
      " 9   상태      123279 non-null  object \n",
      " 10  이동경로    48101 non-null   object \n",
      " 11  등록일     123279 non-null  object \n",
      " 12  수정일     123279 non-null  object \n",
      " 13  노출여부    123279 non-null  object \n",
      "dtypes: float64(4), int64(1), object(9)\n",
      "memory usage: 13.2+ MB\n"
     ]
    }
   ],
   "source": [
    "df.info()"
   ]
  },
  {
   "cell_type": "code",
   "execution_count": 27,
   "id": "4ff143b2",
   "metadata": {},
   "outputs": [
    {
     "data": {
      "text/html": [
       "<div>\n",
       "<style scoped>\n",
       "    .dataframe tbody tr th:only-of-type {\n",
       "        vertical-align: middle;\n",
       "    }\n",
       "\n",
       "    .dataframe tbody tr th {\n",
       "        vertical-align: top;\n",
       "    }\n",
       "\n",
       "    .dataframe thead th {\n",
       "        text-align: right;\n",
       "    }\n",
       "</style>\n",
       "<table border=\"1\" class=\"dataframe\">\n",
       "  <thead>\n",
       "    <tr style=\"text-align: right;\">\n",
       "      <th></th>\n",
       "      <th>연번</th>\n",
       "      <th>확진일</th>\n",
       "      <th>환자번호</th>\n",
       "      <th>국적</th>\n",
       "      <th>환자정보</th>\n",
       "      <th>지역</th>\n",
       "      <th>여행력</th>\n",
       "      <th>접촉력</th>\n",
       "      <th>조치사항</th>\n",
       "      <th>상태</th>\n",
       "      <th>이동경로</th>\n",
       "      <th>등록일</th>\n",
       "      <th>수정일</th>\n",
       "      <th>노출여부</th>\n",
       "    </tr>\n",
       "  </thead>\n",
       "  <tbody>\n",
       "    <tr>\n",
       "      <th>0</th>\n",
       "      <td>165178</td>\n",
       "      <td>2021-12-04</td>\n",
       "      <td>NaN</td>\n",
       "      <td>NaN</td>\n",
       "      <td>NaN</td>\n",
       "      <td>기타</td>\n",
       "      <td>NaN</td>\n",
       "      <td>감염경로 조사중</td>\n",
       "      <td>NaN</td>\n",
       "      <td>-</td>\n",
       "      <td>NaN</td>\n",
       "      <td>2021-12-05 10:50</td>\n",
       "      <td>2021-12-05 10:50</td>\n",
       "      <td>Y</td>\n",
       "    </tr>\n",
       "    <tr>\n",
       "      <th>1</th>\n",
       "      <td>165177</td>\n",
       "      <td>2021-12-04</td>\n",
       "      <td>NaN</td>\n",
       "      <td>NaN</td>\n",
       "      <td>NaN</td>\n",
       "      <td>기타</td>\n",
       "      <td>NaN</td>\n",
       "      <td>감염경로 조사중</td>\n",
       "      <td>NaN</td>\n",
       "      <td>-</td>\n",
       "      <td>NaN</td>\n",
       "      <td>2021-12-05 10:50</td>\n",
       "      <td>2021-12-05 10:50</td>\n",
       "      <td>Y</td>\n",
       "    </tr>\n",
       "    <tr>\n",
       "      <th>2</th>\n",
       "      <td>165176</td>\n",
       "      <td>2021-12-04</td>\n",
       "      <td>NaN</td>\n",
       "      <td>NaN</td>\n",
       "      <td>NaN</td>\n",
       "      <td>구로구</td>\n",
       "      <td>NaN</td>\n",
       "      <td>감염경로 조사중</td>\n",
       "      <td>NaN</td>\n",
       "      <td>-</td>\n",
       "      <td>NaN</td>\n",
       "      <td>2021-12-05 10:50</td>\n",
       "      <td>2021-12-05 10:50</td>\n",
       "      <td>Y</td>\n",
       "    </tr>\n",
       "    <tr>\n",
       "      <th>3</th>\n",
       "      <td>165175</td>\n",
       "      <td>2021-12-04</td>\n",
       "      <td>NaN</td>\n",
       "      <td>NaN</td>\n",
       "      <td>NaN</td>\n",
       "      <td>기타</td>\n",
       "      <td>NaN</td>\n",
       "      <td>감염경로 조사중</td>\n",
       "      <td>NaN</td>\n",
       "      <td>-</td>\n",
       "      <td>NaN</td>\n",
       "      <td>2021-12-05 10:50</td>\n",
       "      <td>2021-12-05 10:50</td>\n",
       "      <td>Y</td>\n",
       "    </tr>\n",
       "    <tr>\n",
       "      <th>4</th>\n",
       "      <td>165174</td>\n",
       "      <td>2021-12-04</td>\n",
       "      <td>NaN</td>\n",
       "      <td>NaN</td>\n",
       "      <td>NaN</td>\n",
       "      <td>은평구</td>\n",
       "      <td>NaN</td>\n",
       "      <td>감염경로 조사중</td>\n",
       "      <td>NaN</td>\n",
       "      <td>-</td>\n",
       "      <td>NaN</td>\n",
       "      <td>2021-12-05 10:50</td>\n",
       "      <td>2021-12-05 10:50</td>\n",
       "      <td>Y</td>\n",
       "    </tr>\n",
       "  </tbody>\n",
       "</table>\n",
       "</div>"
      ],
      "text/plain": [
       "       연번         확진일  환자번호  국적  환자정보   지역  여행력       접촉력  조치사항 상태 이동경로  \\\n",
       "0  165178  2021-12-04   NaN NaN   NaN   기타  NaN  감염경로 조사중   NaN  -  NaN   \n",
       "1  165177  2021-12-04   NaN NaN   NaN   기타  NaN  감염경로 조사중   NaN  -  NaN   \n",
       "2  165176  2021-12-04   NaN NaN   NaN  구로구  NaN  감염경로 조사중   NaN  -  NaN   \n",
       "3  165175  2021-12-04   NaN NaN   NaN   기타  NaN  감염경로 조사중   NaN  -  NaN   \n",
       "4  165174  2021-12-04   NaN NaN   NaN  은평구  NaN  감염경로 조사중   NaN  -  NaN   \n",
       "\n",
       "                등록일               수정일 노출여부  \n",
       "0  2021-12-05 10:50  2021-12-05 10:50    Y  \n",
       "1  2021-12-05 10:50  2021-12-05 10:50    Y  \n",
       "2  2021-12-05 10:50  2021-12-05 10:50    Y  \n",
       "3  2021-12-05 10:50  2021-12-05 10:50    Y  \n",
       "4  2021-12-05 10:50  2021-12-05 10:50    Y  "
      ]
     },
     "execution_count": 27,
     "metadata": {},
     "output_type": "execute_result"
    }
   ],
   "source": [
    "df.head()"
   ]
  },
  {
   "cell_type": "markdown",
   "id": "110ac36a",
   "metadata": {},
   "source": [
    "### 데이터 전처리"
   ]
  },
  {
   "cell_type": "code",
   "execution_count": 14,
   "id": "c46cb5ae",
   "metadata": {},
   "outputs": [
    {
     "name": "stdout",
     "output_type": "stream",
     "text": [
      "<class 'pandas.core.frame.DataFrame'>\n",
      "RangeIndex: 123279 entries, 0 to 123278\n",
      "Data columns (total 11 columns):\n",
      " #   Column  Non-Null Count   Dtype  \n",
      "---  ------  --------------   -----  \n",
      " 0   연번      123279 non-null  int64  \n",
      " 1   확진일     123279 non-null  object \n",
      " 2   환자번호    0 non-null       float64\n",
      " 3   지역      123279 non-null  object \n",
      " 4   여행력     939 non-null     object \n",
      " 5   접촉력     123279 non-null  object \n",
      " 6   상태      123279 non-null  object \n",
      " 7   이동경로    48101 non-null   object \n",
      " 8   등록일     123279 non-null  object \n",
      " 9   수정일     123279 non-null  object \n",
      " 10  노출여부    123279 non-null  object \n",
      "dtypes: float64(1), int64(1), object(9)\n",
      "memory usage: 10.3+ MB\n"
     ]
    }
   ],
   "source": [
    "Second_data = df.drop(columns = ['국적','환자정보','조치사항'])\n",
    "Second_data.info()"
   ]
  },
  {
   "cell_type": "code",
   "execution_count": 26,
   "id": "7118417c",
   "metadata": {},
   "outputs": [
    {
     "data": {
      "text/html": [
       "<div>\n",
       "<style scoped>\n",
       "    .dataframe tbody tr th:only-of-type {\n",
       "        vertical-align: middle;\n",
       "    }\n",
       "\n",
       "    .dataframe tbody tr th {\n",
       "        vertical-align: top;\n",
       "    }\n",
       "\n",
       "    .dataframe thead th {\n",
       "        text-align: right;\n",
       "    }\n",
       "</style>\n",
       "<table border=\"1\" class=\"dataframe\">\n",
       "  <thead>\n",
       "    <tr style=\"text-align: right;\">\n",
       "      <th></th>\n",
       "      <th>연번</th>\n",
       "      <th>확진일</th>\n",
       "      <th>환자번호</th>\n",
       "      <th>지역</th>\n",
       "      <th>여행력</th>\n",
       "      <th>접촉력</th>\n",
       "      <th>상태</th>\n",
       "      <th>이동경로</th>\n",
       "      <th>등록일</th>\n",
       "      <th>수정일</th>\n",
       "      <th>노출여부</th>\n",
       "    </tr>\n",
       "  </thead>\n",
       "  <tbody>\n",
       "    <tr>\n",
       "      <th>0</th>\n",
       "      <td>165178</td>\n",
       "      <td>2021-12-04</td>\n",
       "      <td>NaN</td>\n",
       "      <td>기타</td>\n",
       "      <td>NaN</td>\n",
       "      <td>감염경로 조사중</td>\n",
       "      <td>-</td>\n",
       "      <td>NaN</td>\n",
       "      <td>2021-12-05 10:50</td>\n",
       "      <td>2021-12-05 10:50</td>\n",
       "      <td>Y</td>\n",
       "    </tr>\n",
       "    <tr>\n",
       "      <th>1</th>\n",
       "      <td>165177</td>\n",
       "      <td>2021-12-04</td>\n",
       "      <td>NaN</td>\n",
       "      <td>기타</td>\n",
       "      <td>NaN</td>\n",
       "      <td>감염경로 조사중</td>\n",
       "      <td>-</td>\n",
       "      <td>NaN</td>\n",
       "      <td>2021-12-05 10:50</td>\n",
       "      <td>2021-12-05 10:50</td>\n",
       "      <td>Y</td>\n",
       "    </tr>\n",
       "    <tr>\n",
       "      <th>2</th>\n",
       "      <td>165176</td>\n",
       "      <td>2021-12-04</td>\n",
       "      <td>NaN</td>\n",
       "      <td>구로구</td>\n",
       "      <td>NaN</td>\n",
       "      <td>감염경로 조사중</td>\n",
       "      <td>-</td>\n",
       "      <td>NaN</td>\n",
       "      <td>2021-12-05 10:50</td>\n",
       "      <td>2021-12-05 10:50</td>\n",
       "      <td>Y</td>\n",
       "    </tr>\n",
       "    <tr>\n",
       "      <th>3</th>\n",
       "      <td>165175</td>\n",
       "      <td>2021-12-04</td>\n",
       "      <td>NaN</td>\n",
       "      <td>기타</td>\n",
       "      <td>NaN</td>\n",
       "      <td>감염경로 조사중</td>\n",
       "      <td>-</td>\n",
       "      <td>NaN</td>\n",
       "      <td>2021-12-05 10:50</td>\n",
       "      <td>2021-12-05 10:50</td>\n",
       "      <td>Y</td>\n",
       "    </tr>\n",
       "    <tr>\n",
       "      <th>4</th>\n",
       "      <td>165174</td>\n",
       "      <td>2021-12-04</td>\n",
       "      <td>NaN</td>\n",
       "      <td>은평구</td>\n",
       "      <td>NaN</td>\n",
       "      <td>감염경로 조사중</td>\n",
       "      <td>-</td>\n",
       "      <td>NaN</td>\n",
       "      <td>2021-12-05 10:50</td>\n",
       "      <td>2021-12-05 10:50</td>\n",
       "      <td>Y</td>\n",
       "    </tr>\n",
       "  </tbody>\n",
       "</table>\n",
       "</div>"
      ],
      "text/plain": [
       "       연번         확진일  환자번호   지역  여행력       접촉력 상태 이동경로               등록일  \\\n",
       "0  165178  2021-12-04   NaN   기타  NaN  감염경로 조사중  -  NaN  2021-12-05 10:50   \n",
       "1  165177  2021-12-04   NaN   기타  NaN  감염경로 조사중  -  NaN  2021-12-05 10:50   \n",
       "2  165176  2021-12-04   NaN  구로구  NaN  감염경로 조사중  -  NaN  2021-12-05 10:50   \n",
       "3  165175  2021-12-04   NaN   기타  NaN  감염경로 조사중  -  NaN  2021-12-05 10:50   \n",
       "4  165174  2021-12-04   NaN  은평구  NaN  감염경로 조사중  -  NaN  2021-12-05 10:50   \n",
       "\n",
       "                수정일 노출여부  \n",
       "0  2021-12-05 10:50    Y  \n",
       "1  2021-12-05 10:50    Y  \n",
       "2  2021-12-05 10:50    Y  \n",
       "3  2021-12-05 10:50    Y  \n",
       "4  2021-12-05 10:50    Y  "
      ]
     },
     "execution_count": 26,
     "metadata": {},
     "output_type": "execute_result"
    }
   ],
   "source": [
    "Second_data.head()"
   ]
  },
  {
   "cell_type": "markdown",
   "id": "0ca0b56c",
   "metadata": {},
   "source": [
    "### 데이터 시각화"
   ]
  },
  {
   "cell_type": "markdown",
   "id": "e6f5b2e6",
   "metadata": {},
   "source": [
    "#### 지역별 확진자 수 출력"
   ]
  },
  {
   "cell_type": "code",
   "execution_count": 15,
   "id": "cbf7dda1",
   "metadata": {
    "scrolled": true
   },
   "outputs": [
    {
     "data": {
      "text/plain": [
       "0           기타\n",
       "1           기타\n",
       "2          구로구\n",
       "3           기타\n",
       "4          은평구\n",
       "          ... \n",
       "123274    동대문구\n",
       "123275     성북구\n",
       "123276     도봉구\n",
       "123277    동대문구\n",
       "123278    동대문구\n",
       "Name: 지역, Length: 123279, dtype: object"
      ]
     },
     "execution_count": 15,
     "metadata": {},
     "output_type": "execute_result"
    }
   ],
   "source": [
    "Second_data['지역']"
   ]
  },
  {
   "cell_type": "code",
   "execution_count": 16,
   "id": "3d0a097a",
   "metadata": {},
   "outputs": [],
   "source": [
    "import matplotlib.font_manager as fm\n",
    "\n",
    "font_dirs = ['/usr/share/fonts/truetype/nanum', ]\n",
    "font_files = fm.findSystemFonts(fontpaths=font_dirs)\n",
    "\n",
    "for font_file in font_files:\n",
    "    fm.fontManager.addfont(font_file)"
   ]
  },
  {
   "cell_type": "code",
   "execution_count": 17,
   "id": "3ae969aa",
   "metadata": {},
   "outputs": [],
   "source": [
    "corona_ = Second_data.replace({'종랑구':'중랑구', '한국':'기타'})"
   ]
  },
  {
   "cell_type": "code",
   "execution_count": 20,
   "id": "0a621a26",
   "metadata": {
    "scrolled": true
   },
   "outputs": [
    {
     "data": {
      "image/png": "[encoded data removed]",
      "text/plain": [
       "<Figure size 1440x360 with 1 Axes>"
      ]
     },
     "metadata": {},
     "output_type": "display_data"
    }
   ],
   "source": [
    "plt.figure(figsize=(20,5))\n",
    "plt.rcParams['font.family'] = 'Malgun Gothic'\n",
    "ax = sns.countplot(x=\"지역\", data=corona_, palette=\"Set1\")"
   ]
  }
 ],
 "metadata": {
  "kernelspec": {
   "display_name": "Python 3",
   "language": "python",
   "name": "python3"
  },
  "language_info": {
   "codemirror_mode": {
    "name": "ipython",
    "version": 3
   },
   "file_extension": ".py",
   "mimetype": "text/x-python",
   "name": "python",
   "nbconvert_exporter": "python",
   "pygments_lexer": "ipython3",
   "version": "3.8.8"
  }
 },
 "nbformat": 4,
 "nbformat_minor": 5
}
